{
 "cells": [
  {
   "cell_type": "code",
   "execution_count": 1,
   "metadata": {},
   "outputs": [],
   "source": [
    "from nltk.corpus import wordnet as wn"
   ]
  },
  {
   "cell_type": "code",
   "execution_count": 2,
   "metadata": {},
   "outputs": [],
   "source": [
    "def closure_graph(synset,fn):\n",
    "    seen = set()\n",
    "    node = set()\n",
    "    edge = list()\n",
    "    \n",
    "    \n",
    "    def recurse(s):\n",
    "        if not s in seen:\n",
    "            seen.add(s)\n",
    "            print(s.lemma_names('eng')[0])\n",
    "            node.add(s.lemma_names('eng')[0])\n",
    "            for s1 in fn(s):\n",
    "                \n",
    "                node.add(s1.lemma_names('eng')[0])\n",
    "                edge.append({\"source\":s.lemma_names('eng')[0],\"target\":s1.lemma_names('eng')[0]})\n",
    "                recurse(s1)\n",
    "    recurse(synset)\n",
    "    return (list(node),edge)"
   ]
  },
  {
   "cell_type": "code",
   "execution_count": 3,
   "metadata": {},
   "outputs": [
    {
     "name": "stdout",
     "output_type": "stream",
     "text": [
      "dog\n",
      "canine\n",
      "carnivore\n",
      "placental\n",
      "mammal\n",
      "vertebrate\n",
      "chordate\n",
      "animal\n",
      "organism\n",
      "living_thing\n",
      "whole\n",
      "object\n",
      "physical_entity\n",
      "entity\n",
      "domestic_animal\n"
     ]
    },
    {
     "data": {
      "text/plain": [
       "(['whole',\n",
       "  'entity',\n",
       "  'physical_entity',\n",
       "  'vertebrate',\n",
       "  'canine',\n",
       "  'domestic_animal',\n",
       "  'chordate',\n",
       "  'mammal',\n",
       "  'animal',\n",
       "  'living_thing',\n",
       "  'placental',\n",
       "  'organism',\n",
       "  'object',\n",
       "  'dog',\n",
       "  'carnivore'],\n",
       " [{'source': 'dog', 'target': 'canine'},\n",
       "  {'source': 'canine', 'target': 'carnivore'},\n",
       "  {'source': 'carnivore', 'target': 'placental'},\n",
       "  {'source': 'placental', 'target': 'mammal'},\n",
       "  {'source': 'mammal', 'target': 'vertebrate'},\n",
       "  {'source': 'vertebrate', 'target': 'chordate'},\n",
       "  {'source': 'chordate', 'target': 'animal'},\n",
       "  {'source': 'animal', 'target': 'organism'},\n",
       "  {'source': 'organism', 'target': 'living_thing'},\n",
       "  {'source': 'living_thing', 'target': 'whole'},\n",
       "  {'source': 'whole', 'target': 'object'},\n",
       "  {'source': 'object', 'target': 'physical_entity'},\n",
       "  {'source': 'physical_entity', 'target': 'entity'},\n",
       "  {'source': 'dog', 'target': 'domestic_animal'},\n",
       "  {'source': 'domestic_animal', 'target': 'animal'}])"
      ]
     },
     "execution_count": 3,
     "metadata": {},
     "output_type": "execute_result"
    }
   ],
   "source": [
    "import json\n",
    "\n",
    "dog = wn.synset('dog.n.01')\n",
    "graph = closure_graph(dog,lambda s: s.hypernyms())\n",
    "graph"
   ]
  },
  {
   "cell_type": "code",
   "execution_count": 4,
   "metadata": {},
   "outputs": [
    {
     "name": "stdout",
     "output_type": "stream",
     "text": [
      "[{'id': 0, 'name': 'whole'}, {'id': 1, 'name': 'entity'}, {'id': 2, 'name': 'physical_entity'}, {'id': 3, 'name': 'vertebrate'}, {'id': 4, 'name': 'canine'}, {'id': 5, 'name': 'domestic_animal'}, {'id': 6, 'name': 'chordate'}, {'id': 7, 'name': 'mammal'}, {'id': 8, 'name': 'animal'}, {'id': 9, 'name': 'living_thing'}, {'id': 10, 'name': 'placental'}, {'id': 11, 'name': 'organism'}, {'id': 12, 'name': 'object'}, {'id': 13, 'name': 'dog'}, {'id': 14, 'name': 'carnivore'}]\n"
     ]
    }
   ],
   "source": [
    "vocabulary = []\n",
    "for token in graph[0]:\n",
    "    if token not in vocabulary:\n",
    "        vocabulary.append(token)\n",
    "json_1 = []\n",
    "for i in range(len(vocabulary)):\n",
    "    json_1.append({\"id\":i, \"name\": vocabulary[i]})\n",
    "\n",
    "vocabulary_size = len(vocabulary)\n",
    "print(json_1)"
   ]
  },
  {
   "cell_type": "code",
   "execution_count": 5,
   "metadata": {},
   "outputs": [],
   "source": [
    "json_2 = graph[1]\n",
    "for j in range(len(json_1)):\n",
    "    for i in range(len(graph[1])):    \n",
    "        if (json_1[j]['name'] ==  json_2[i]['source']):\n",
    "            json_2[i]['source'] = json_1[j]['id']\n",
    "        if (json_1[j]['name'] ==  json_2[i]['target']):\n",
    "            json_2[i]['target'] = json_1[j]['id']"
   ]
  },
  {
   "cell_type": "code",
   "execution_count": 6,
   "metadata": {},
   "outputs": [],
   "source": [
    "with open(\"wordnet.json\",\"w\") as fh:\n",
    "    json.dump({\"nodes\":json_1,\"links\":json_2},fh)"
   ]
  },
  {
   "cell_type": "code",
   "execution_count": 7,
   "metadata": {},
   "outputs": [],
   "source": [
    "def closure_graph(synset,fn):\n",
    "    seen = set()\n",
    "    node = set()\n",
    "    edge = list()\n",
    "    \n",
    "    \n",
    "    def recurse(s):\n",
    "        if not s in seen:\n",
    "            seen.add(s)\n",
    "            print(s.lemma_names('eng')[0])\n",
    "            node.add(s.lemma_names('eng')[0])\n",
    "            \n",
    "            for s_syn in s.lemma_names('eng'):\n",
    "                if not s_syn in seen:\n",
    "                    node.add(s_syn)\n",
    "                edge.append({\"source\":s.lemma_names('eng')[0],\"target\":s_syn, \"relation\":\"synonym\"})\n",
    "            \n",
    "            \n",
    "            for s1 in fn(s):\n",
    "                if not s1 in seen:\n",
    "                    node.add(s1.lemma_names('eng')[0])\n",
    "                edge.append({\"source\":s.lemma_names('eng')[0],\n",
    "                             \"target\":s1.lemma_names('eng')[0], \n",
    "                             \"relation\":\"hyperonym\"})\n",
    "                recurse(s1)\n",
    "    recurse(synset)\n",
    "    return (list(node),edge)"
   ]
  },
  {
   "cell_type": "code",
   "execution_count": 8,
   "metadata": {},
   "outputs": [
    {
     "name": "stdout",
     "output_type": "stream",
     "text": [
      "dog\n",
      "canine\n",
      "carnivore\n",
      "placental\n",
      "mammal\n",
      "vertebrate\n",
      "chordate\n",
      "animal\n",
      "organism\n",
      "living_thing\n",
      "whole\n",
      "object\n",
      "physical_entity\n",
      "entity\n",
      "domestic_animal\n"
     ]
    }
   ],
   "source": [
    "dog = wn.synset('dog.n.01')\n",
    "graph = closure_graph(dog,lambda s: s.hypernyms())"
   ]
  },
  {
   "cell_type": "code",
   "execution_count": 9,
   "metadata": {},
   "outputs": [
    {
     "data": {
      "text/plain": [
       "(['eutherian',\n",
       "  'domestic_dog',\n",
       "  'whole',\n",
       "  'physical_entity',\n",
       "  'chordate',\n",
       "  'beast',\n",
       "  'animal',\n",
       "  'placental_mammal',\n",
       "  'mammalian',\n",
       "  'object',\n",
       "  'brute',\n",
       "  'canine',\n",
       "  'eutherian_mammal',\n",
       "  'unit',\n",
       "  'living_thing',\n",
       "  'placental',\n",
       "  'being',\n",
       "  'craniate',\n",
       "  'vertebrate',\n",
       "  'physical_object',\n",
       "  'domestic_animal',\n",
       "  'mammal',\n",
       "  'creature',\n",
       "  'organism',\n",
       "  'animate_thing',\n",
       "  'domesticated_animal',\n",
       "  'entity',\n",
       "  'Canis_familiaris',\n",
       "  'fauna',\n",
       "  'animate_being',\n",
       "  'canid',\n",
       "  'dog',\n",
       "  'carnivore'],\n",
       " [{'source': 'dog', 'target': 'dog', 'relation': 'synonym'},\n",
       "  {'source': 'dog', 'target': 'domestic_dog', 'relation': 'synonym'},\n",
       "  {'source': 'dog', 'target': 'Canis_familiaris', 'relation': 'synonym'},\n",
       "  {'source': 'dog', 'target': 'canine', 'relation': 'hyperonym'},\n",
       "  {'source': 'canine', 'target': 'canine', 'relation': 'synonym'},\n",
       "  {'source': 'canine', 'target': 'canid', 'relation': 'synonym'},\n",
       "  {'source': 'canine', 'target': 'carnivore', 'relation': 'hyperonym'},\n",
       "  {'source': 'carnivore', 'target': 'carnivore', 'relation': 'synonym'},\n",
       "  {'source': 'carnivore', 'target': 'placental', 'relation': 'hyperonym'},\n",
       "  {'source': 'placental', 'target': 'placental', 'relation': 'synonym'},\n",
       "  {'source': 'placental', 'target': 'placental_mammal', 'relation': 'synonym'},\n",
       "  {'source': 'placental', 'target': 'eutherian', 'relation': 'synonym'},\n",
       "  {'source': 'placental', 'target': 'eutherian_mammal', 'relation': 'synonym'},\n",
       "  {'source': 'placental', 'target': 'mammal', 'relation': 'hyperonym'},\n",
       "  {'source': 'mammal', 'target': 'mammal', 'relation': 'synonym'},\n",
       "  {'source': 'mammal', 'target': 'mammalian', 'relation': 'synonym'},\n",
       "  {'source': 'mammal', 'target': 'vertebrate', 'relation': 'hyperonym'},\n",
       "  {'source': 'vertebrate', 'target': 'vertebrate', 'relation': 'synonym'},\n",
       "  {'source': 'vertebrate', 'target': 'craniate', 'relation': 'synonym'},\n",
       "  {'source': 'vertebrate', 'target': 'chordate', 'relation': 'hyperonym'},\n",
       "  {'source': 'chordate', 'target': 'chordate', 'relation': 'synonym'},\n",
       "  {'source': 'chordate', 'target': 'animal', 'relation': 'hyperonym'},\n",
       "  {'source': 'animal', 'target': 'animal', 'relation': 'synonym'},\n",
       "  {'source': 'animal', 'target': 'animate_being', 'relation': 'synonym'},\n",
       "  {'source': 'animal', 'target': 'beast', 'relation': 'synonym'},\n",
       "  {'source': 'animal', 'target': 'brute', 'relation': 'synonym'},\n",
       "  {'source': 'animal', 'target': 'creature', 'relation': 'synonym'},\n",
       "  {'source': 'animal', 'target': 'fauna', 'relation': 'synonym'},\n",
       "  {'source': 'animal', 'target': 'organism', 'relation': 'hyperonym'},\n",
       "  {'source': 'organism', 'target': 'organism', 'relation': 'synonym'},\n",
       "  {'source': 'organism', 'target': 'being', 'relation': 'synonym'},\n",
       "  {'source': 'organism', 'target': 'living_thing', 'relation': 'hyperonym'},\n",
       "  {'source': 'living_thing', 'target': 'living_thing', 'relation': 'synonym'},\n",
       "  {'source': 'living_thing', 'target': 'animate_thing', 'relation': 'synonym'},\n",
       "  {'source': 'living_thing', 'target': 'whole', 'relation': 'hyperonym'},\n",
       "  {'source': 'whole', 'target': 'whole', 'relation': 'synonym'},\n",
       "  {'source': 'whole', 'target': 'unit', 'relation': 'synonym'},\n",
       "  {'source': 'whole', 'target': 'object', 'relation': 'hyperonym'},\n",
       "  {'source': 'object', 'target': 'object', 'relation': 'synonym'},\n",
       "  {'source': 'object', 'target': 'physical_object', 'relation': 'synonym'},\n",
       "  {'source': 'object', 'target': 'physical_entity', 'relation': 'hyperonym'},\n",
       "  {'source': 'physical_entity',\n",
       "   'target': 'physical_entity',\n",
       "   'relation': 'synonym'},\n",
       "  {'source': 'physical_entity', 'target': 'entity', 'relation': 'hyperonym'},\n",
       "  {'source': 'entity', 'target': 'entity', 'relation': 'synonym'},\n",
       "  {'source': 'dog', 'target': 'domestic_animal', 'relation': 'hyperonym'},\n",
       "  {'source': 'domestic_animal',\n",
       "   'target': 'domestic_animal',\n",
       "   'relation': 'synonym'},\n",
       "  {'source': 'domestic_animal',\n",
       "   'target': 'domesticated_animal',\n",
       "   'relation': 'synonym'},\n",
       "  {'source': 'domestic_animal', 'target': 'animal', 'relation': 'hyperonym'}])"
      ]
     },
     "execution_count": 9,
     "metadata": {},
     "output_type": "execute_result"
    }
   ],
   "source": [
    "graph"
   ]
  },
  {
   "cell_type": "code",
   "execution_count": 10,
   "metadata": {},
   "outputs": [
    {
     "name": "stdout",
     "output_type": "stream",
     "text": [
      "48\n"
     ]
    }
   ],
   "source": [
    "enc = enumerate(graph[0])\n",
    "enc = list(enc)\n",
    "print(len(graph[1]))\n",
    "for i in range(0,len(graph[1])):\n",
    "    \n",
    "    for j in range(0,len(enc)):\n",
    "        if graph[1][i]['source']== enc[j][1]:\n",
    "            graph[1][i]['source']=enc[j][0]\n",
    "        if graph[1][i]['target']== enc[j][1]:\n",
    "            graph[1][i]['target']=enc[j][0]\n",
    "            \n",
    "for i in range(0,len(graph[0])):\n",
    "        for j in range(0,len(enc)):\n",
    "            if graph[0][i]== enc[j][1]:\n",
    "                graph[0][i]={\"id\":enc[j][0], \"name\":graph[0][i]}"
   ]
  },
  {
   "cell_type": "code",
   "execution_count": 15,
   "metadata": {},
   "outputs": [
    {
     "name": "stdout",
     "output_type": "stream",
     "text": [
      "graph[0] {'id': 0, 'name': 'eutherian'}\n",
      "graph[0] [{'id': 0, 'name': 'eutherian'}, {'id': 1, 'name': 'domestic_dog'}, {'id': 2, 'name': 'whole'}, {'id': 3, 'name': 'physical_entity'}, {'id': 4, 'name': 'chordate'}, {'id': 5, 'name': 'beast'}, {'id': 6, 'name': 'animal'}, {'id': 7, 'name': 'placental_mammal'}, {'id': 8, 'name': 'mammalian'}, {'id': 9, 'name': 'object'}, {'id': 10, 'name': 'brute'}, {'id': 11, 'name': 'canine'}, {'id': 12, 'name': 'eutherian_mammal'}, {'id': 13, 'name': 'unit'}, {'id': 14, 'name': 'living_thing'}, {'id': 15, 'name': 'placental'}, {'id': 16, 'name': 'being'}, {'id': 17, 'name': 'craniate'}, {'id': 18, 'name': 'vertebrate'}, {'id': 19, 'name': 'physical_object'}, {'id': 20, 'name': 'domestic_animal'}, {'id': 21, 'name': 'mammal'}, {'id': 22, 'name': 'creature'}, {'id': 23, 'name': 'organism'}, {'id': 24, 'name': 'animate_thing'}, {'id': 25, 'name': 'domesticated_animal'}, {'id': 26, 'name': 'entity'}, {'id': 27, 'name': 'Canis_familiaris'}, {'id': 28, 'name': 'fauna'}, {'id': 29, 'name': 'animate_being'}, {'id': 30, 'name': 'canid'}, {'id': 31, 'name': 'dog'}, {'id': 32, 'name': 'carnivore'}]\n"
     ]
    }
   ],
   "source": [
    "import json\n",
    "\n",
    "print('graph[0]', graph[0][0])\n",
    "with open(\"wordnet_final.json\",\"w\") as fh:\n",
    "    print('graph[0]', list(map(dict, graph[0])))\n",
    "    json.dump({\"node\": graph[0],\"edge\":graph[1]},fh)\n"
   ]
  },
  {
   "cell_type": "code",
   "execution_count": null,
   "metadata": {},
   "outputs": [],
   "source": []
  }
 ],
 "metadata": {
  "kernelspec": {
   "display_name": "Python 3",
   "language": "python",
   "name": "python3"
  },
  "language_info": {
   "codemirror_mode": {
    "name": "ipython",
    "version": 3
   },
   "file_extension": ".py",
   "mimetype": "text/x-python",
   "name": "python",
   "nbconvert_exporter": "python",
   "pygments_lexer": "ipython3",
   "version": "3.7.3"
  }
 },
 "nbformat": 4,
 "nbformat_minor": 4
}
